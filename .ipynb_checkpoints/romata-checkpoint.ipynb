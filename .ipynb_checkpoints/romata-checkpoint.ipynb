{
 "cells": [
  {
   "cell_type": "code",
   "execution_count": 2,
   "metadata": {},
   "outputs": [],
   "source": [
    "textocool='''En la Ciencia Política resalta el estudio de la lucha por el poder. Sin embargo, con una formación de izquierda se vuelve difícil enfocar esa lucha en un ascenso a un cargo político. Ya lo dijo Ricardo Flores Magón, “Yo no nací para ser verdugo”. De esta forma, solo queda una lucha por el poder: la lucha por la liberación de la clase oprimida. En palabras de Michel Foucault, “nada es más material, más físico, más corporal que el ejercicio del poder”. Con esto se puede entender la lucha por el empoderamiento del cuerpo mismo. Para evitar las ambigüedades que esto podría presentar, se limitará a hablar de la sexualidad, con enfoques en el poder y en el lenguaje.\n",
    "\n",
    "Antes del siglo XVII era más común que se hablara de sexualidad en la cotidianeidad, sin embargo, a partir de la revolución burguesa, este discurso comenzó a limitarse. No todos hablarían de sexualidad ni tampoco se discutiría en cualquier lugar. De hecho, se establecería un lugar específico y una fórmula específica para practicarse: la económicamente rentable. Es decir, se evitaría que la fuerza de trabajo se desgastara en sexo, a menos que este fuera para la reproducción.\n",
    "\n",
    "Estas serían las bases de un ideal preciado por el capitalismo: “la familia natural”. Cualquier tipo de sexualidad fuera de la norma sería más que un sacrilegio. Esto significaría condenar la homosexualidad, la poligamía, el sexo fuera de matrimonio, etcétera, lo cual se traduce en limitar el poder sobre el cuerpo propio a través de la ideología dominante. \n",
    "\n",
    "Sin embargo, “… desde el momento en el que el poder ha producido este efecto, en la línea misma de sus conquistas, emerge inevitablemente la reivindicación del cuerpo contra el poder, la salud contra la economía, el placer contra las normas morales de la sexualidad, del matrimonio, del pudor. Y de golpe, aquello que hacía al poder fuerte se convierte en aquello por lo que es atacado…”. Es decir, aquellos a quienes se les prohibió ejercer su sexualidad libremente, usan esa prohibición como forma de protesta, demostrando que tienen más poder sobre su cuerpo que la clase hegemónica. \n",
    "\n",
    "Así, existe un grupo social que “molesta” a la ideología hegemónica: los homosexuales. No obstante, la hegemonía responde cediendo ligeramente con una aceptación a la nueva demanda de empoderamiento del cuerpo mismo, pero siempre a su favor. Como ejemplo, la homosexualidad, la cual se ha aceptado últimamente con el “gay pride” o el Día internacional del orgullo LGBT, representado con un arcoíris. \n",
    "\n",
    "Pero la homosexualidad o el libre ejercicio de la sexualidad no es solo eso. De hecho, el movimiento LGBT surge como resultado de la aceptación limitada de otro grupo: el queercore. Un movimiento punk originario de Toronto que cuestionaba la ideología hegemónica de la sexualidad mediante el empoderamiento del cuerpo y la expresión a través de diversas formas de arte. Este movimiento no conocía barreras, no se limitaban de ninguna forma ni tampoco se ofendían si les llamaban despectivamente. Al contrario, se autodenominaban de formas despectivas, quitándole a la hegemonía una forma de atacarles.\n",
    "\n",
    "La única forma en la que la hegemonía le podría quitar poder al movimiento que ya está empoderado y que no se ofende de ninguna forma fue con la limitación del discurso, pero ya no era la hegemonía la que respondía, sino que otro grupo social: el LGBT. Este, con una idea más burguesa de lo que es y debe ser cualquier forma de sexualidad periférica, censura ciertas actitudes que no son “políticamente correctas”. Algo que no le preocupaba para nada al movimiento queercore. Así, la hegemonía recuperaba el control de la situación. Se usa a ese movimiento que sí exige respeto y que sí busca ser aceptado dentro del sistema capitalista para evitar que la búsqueda de empoderamiento se vuelva contra el sistema mismo.\n",
    "\n",
    "Ya se demostró cómo se expresa la lucha por el poder a través del cuerpo y la sexualidad. Ahora es necesario explicar cómo el poder mismo se expresa entre civiles a través de la sexualidad y el lenguaje. \n",
    "\n",
    "Foucault explica que es erróneo interpretar el ejercicio del poder como elemento Estatal únicamente. Es decir, las relaciones de poder están presentes en todas las relaciones sociales, debido a la desigualdad que se presenta en las mismas. Con esto es posible identificar las relaciones de poder en las relaciones sexuales con una simple palabra de uso común: cogerte. A pesar de que “coger” no es la única palabra que refiera al acto sexual, se usará como ejemplo, pues es la menos maquillada y se le puede agregar al sujeto receptor de la acción en la misma palabra.\n",
    "\n",
    "El sexo dejó de ser placer para convertirse en poder. No es casualidad que para demostrar dominio se recurra a referencias sexuales como “te cogí”, “me la pelas”, etcétera. Ejemplos hay miles. Uno de los más polémicos y ricos en análisis es el video en el que DebRyanShow, un youtuber, coloca la bandera de Alemania y pretende tener relaciones con ella después de la victoria de México contra Alemania en el Mundial de Rusia. Demuestra cómo el sexo más que placer o intimidad, significa poder y dominio. Esto se deduce fácilmente por el contexto y porque solo se hizo la representación del acto sexual. Es decir, “México se cogió a Alemania” como representación simbólica de “México le ganó a Alemania”.\n",
    "\n",
    "Es a través del lenguaje que esto se hace posible. Como acto sexual, es más común escuchar a alguien “que se cogió a” alguien más en lugar de escuchar a alguien “que cogió con” alguien más. Además de ser una expresión de uso cotidiano en contextos alejados al sexo. En época de exámenes abunda el “¿listo para la cogida de tu vida?”, “esa materia me está cogiendo durísimo”.\n",
    "\n",
    "Considerando que somos el único animal con órganos cuya función es únicamente la sensación del placer, es una pena que el acto sexual se haya distorsionado tanto. La concepción internalizada de sexo como dominio puede resultar en prácticas sexuales decadentes y no en el desarrollo del placer. Es decir, para que realmente se consiga el conocimiento y empoderamiento del cuerpo es necesario eliminar ese enfoque de dominio en el acto sexual. De cierta forma, tener sexo placentero con quien se desee, viendo a esa persona como un igual y no como un dominado, además de divertido, es revolucionario.'''"
   ]
  },
  {
   "cell_type": "code",
   "execution_count": 1,
   "metadata": {},
   "outputs": [],
   "source": [
    "a = 'asdasd'"
   ]
  },
  {
   "cell_type": "code",
   "execution_count": null,
   "metadata": {},
   "outputs": [],
   "source": []
  },
  {
   "cell_type": "code",
   "execution_count": 1,
   "metadata": {},
   "outputs": [],
   "source": [
    "%load_ext cython"
   ]
  },
  {
   "cell_type": "code",
   "execution_count": 5,
   "metadata": {},
   "outputs": [],
   "source": [
    "%%cython -f\n",
    "\n",
    "cpdef counter(dic, char):\n",
    "    if(char in dic):\n",
    "        dic[char]+=1\n",
    "    else:\n",
    "        dic[char]=1\n",
    "        \n",
    "    return dic\n",
    "\n",
    "#dicPrint(dic)"
   ]
  },
  {
   "cell_type": "code",
   "execution_count": 6,
   "metadata": {},
   "outputs": [],
   "source": [
    "dic = {}\n",
    "[counter(dic,i) for i in textocool]\n",
    "pass"
   ]
  },
  {
   "cell_type": "code",
   "execution_count": 131,
   "metadata": {},
   "outputs": [],
   "source": [
    "t = []\n",
    "for k,v in dic.items():\n",
    "    nodo = Node(v,k)\n",
    "    heappush(t,nodo)"
   ]
  },
  {
   "cell_type": "code",
   "execution_count": 134,
   "metadata": {},
   "outputs": [
    {
     "name": "stdout",
     "output_type": "stream",
     "text": [
      "[\n",
      "(1, 'ü')\n",
      "(1, 'X')\n",
      "(1, 'k')\n",
      "(3, 'F')\n",
      "(1, 'V')\n",
      "(2, '…')\n",
      "(1, 'w')\n",
      "(4, 'S')\n",
      "(7, 'D')\n",
      "(7, 'C')\n",
      "(3, 'P')\n",
      "(4, 'Y')\n",
      "(3, 'N')\n",
      "(2, 'I')\n",
      "(1, '¿')\n",
      "(39, 'h')\n",
      "(6, 'M')\n",
      "(16, '”')\n",
      "(7, ':')\n",
      "(24, 'á')\n",
      "(24, 'y')\n",
      "(22, '\\n')\n",
      "(3, 'R')\n",
      "(38, 'f')\n",
      "(10, 'ú')\n",
      "(5, 'L')\n",
      "(3, 'G')\n",
      "(5, 'z')\n",
      "(2, 'U')\n",
      "(1, '?')\n",
      "(36, 'v')\n",
      "(744, 'e')\n",
      "(249, 'd')\n",
      "(292, 'n')\n",
      "(15, 'j')\n",
      "(314, 'l')\n",
      "(140, 'p')\n",
      "(209, 'u')\n",
      "(16, '“')\n",
      "(561, 'a')\n",
      "(51, '.')\n",
      "(236, 'c')\n",
      "(44, 'x')\n",
      "(418, 'o')\n",
      "(44, 'b')\n",
      "(177, 'm')\n",
      "(12, 'A')\n",
      "(1046, ' ')\n",
      "(62, ',')\n",
      "(65, 'g')\n",
      "(14, 'é')\n",
      "(188, 't')\n",
      "(38, 'ó')\n",
      "(40, 'í')\n",
      "(3, 'B')\n",
      "(308, 'r')\n",
      "(57, 'q')\n",
      "(303, 'i')\n",
      "(4, 'T')\n",
      "(330, 's')\n",
      "(17, 'E')\n",
      "]\n"
     ]
    }
   ],
   "source": [
    "printHeap(t)"
   ]
  },
  {
   "cell_type": "code",
   "execution_count": 3,
   "metadata": {},
   "outputs": [
    {
     "name": "stdout",
     "output_type": "stream",
     "text": [
      "\n",
      "def __map(self):\n",
      "    dic = {\n",
      "         0:self.num,\n",
      "         1:self.char,\n",
      "         2:self.left,\n",
      "         3:self.right,\n",
      "        'l':self.left,\n",
      "        'r':self.right,\n",
      "        'left':self.left,\n",
      "        'right':self.right\n",
      "    }\n"
     ]
    }
   ],
   "source": [
    "print('''\n",
    "def __map(self):\n",
    "    dic = {\n",
    "         0:{0}num,\n",
    "         1:{0}char,\n",
    "         2:{0}left,\n",
    "         3:{0}right,\n",
    "        'l':{0}left,\n",
    "        'r':{0}right,\n",
    "        'left':{0}left,\n",
    "        'right':{0}right\n",
    "    }'''.replace('{0}','self.'))"
   ]
  },
  {
   "cell_type": "code",
   "execution_count": 6,
   "metadata": {
    "slideshow": {
     "slide_type": "-"
    }
   },
   "outputs": [],
   "source": [
    "class Node(object):\n",
    "    def __init__(self, num, char=None, left=None, right=None):\n",
    "        self.num = num\n",
    "        self.char = char\n",
    "        self.left = left\n",
    "        self.right = right\n",
    "        \n",
    "        self.__maper()\n",
    "        \n",
    "    def __maper(self):\n",
    "        dic = {\n",
    "             0:self.num,\n",
    "             1:self.char,\n",
    "             2:self.left,\n",
    "             3:self.right,\n",
    "            'l':self.left,\n",
    "            'r':self.right,\n",
    "            'left':self.left,\n",
    "            'right':self.right\n",
    "        }\n",
    "        \n",
    "        self.__map = dic\n",
    "    \n",
    "    def __setattr__(self,name,value):\n",
    "        super().__setattr__(name,value)\n",
    "        try:\n",
    "            self.__maper()\n",
    "        except:\n",
    "            pass\n",
    "        \n",
    "    def __compareTo(self, other, symb):\n",
    "        return eval('self.num {} other.num')\n",
    "    \n",
    "    def __lt__(self, other):\n",
    "        return self.compareTo(other,\"<\")\n",
    "\n",
    "    def __le__(self, other):\n",
    "        return self.compareTo(other,\"<=\")\n",
    "\n",
    "    def __eq__(self, other):\n",
    "        return self.compareTo(other,\"==\")\n",
    "\n",
    "    def __ne__(self, other):\n",
    "        return self.compareTo(other,\"!=\")\n",
    "\n",
    "    def __ge__(self, other):\n",
    "        return self.compareTo(other,\">=\")\n",
    "\n",
    "    def __gt__(self, other):\n",
    "        return self.compareTo(other,\">\")\n",
    "\n",
    "    def __bool__(self):\n",
    "        return self.char is not None\n",
    "    \n",
    "    def __getitem__(self, key):\n",
    "        try:\n",
    "            return self.__map[key]\n",
    "        except:\n",
    "            return None\n",
    "    \n",
    "    def __str__(self):\n",
    "        return '({}, {})'.format(self.num,repr(self.char))\n",
    "    \n",
    "def printHeap(jip=[]):\n",
    "    print('[')\n",
    "    for i in jip:\n",
    "        print(str(i))\n",
    "    print(']')"
   ]
  },
  {
   "cell_type": "code",
   "execution_count": 10,
   "metadata": {},
   "outputs": [
    {
     "data": {
      "text/plain": [
       "False"
      ]
     },
     "execution_count": 10,
     "metadata": {},
     "output_type": "execute_result"
    }
   ],
   "source": [
    "a = Node(4)\n",
    "bool(a)"
   ]
  },
  {
   "cell_type": "code",
   "execution_count": 36,
   "metadata": {},
   "outputs": [],
   "source": [
    "class ArbolHuffman(object):\n",
    "    def __init__(self, node):\n",
    "        if not(isinstance(node, Node)):\n",
    "            raise AttributeError('Not Node')\n",
    "            \n",
    "        self.root = node\n",
    "        \n",
    "\n",
    "def createTree(jip=[]):\n",
    "    \n",
    "    while(len(jip)>=2):\n",
    "        aux1 = heappop(jip)\n",
    "        aux2 = heappop(jip)\n",
    "        \n",
    "        nodo = Node(aux1.num+aux2.num)\n",
    "        nodo.left = aux1\n",
    "        nodo.right = aux2\n",
    "        \n",
    "        heappush(jip,nodo) \n",
    "    \n",
    "    claves = []\n",
    "    #Como no existe .peek, el indexado \"-1\" se refiere al último elemento\n",
    "    llenarTuplas(jip[-1],\"\",claves)\n",
    "    \n",
    "    return jip.pop(), claves\n",
    "\n",
    "\n",
    "\n",
    "def llenarTuplas(nodo, clave, lista):    \n",
    "    if(nodo):\n",
    "        aux = str(clave)\n",
    "        llenarTuplas(nodo.left,clave+'0',lista)\n",
    "        llenarTuplas(nodo.right,clave+'1',lista)\n",
    "    else:\n",
    "        lista.append((nodo.char,clave))"
   ]
  },
  {
   "cell_type": "code",
   "execution_count": 117,
   "metadata": {},
   "outputs": [],
   "source": [
    "class Heap(list):\n",
    "    def __init__(self, ob=None):\n",
    "        from heapq import heappush, heappop\n",
    "        self.__heappush = heappush\n",
    "        self.__heappop = heappop\n",
    "        super().__init__()\n",
    "        if(isIterable(ob)):\n",
    "            for i in ob:\n",
    "                heappush(self, i)\n",
    "        else:\n",
    "            self.append(ob)\n",
    "            \n",
    "    def push(self, ob):\n",
    "        if(isIterable(ob)):\n",
    "            for i in ob:\n",
    "                heappush(self, i)\n",
    "        else:\n",
    "            heappush(self, ob)\n",
    "                        \n",
    "    def append(self, ob):\n",
    "        self.push(ob)\n",
    "        \n",
    "        return self\n",
    "    \n",
    "    def pop(self):\n",
    "        return heappop(self)\n",
    "    \n",
    "    def remove(self):\n",
    "        pop()\n",
    "        return self\n",
    "    \n",
    "    def clone(self):\n",
    "        return Heap(self)"
   ]
  },
  {
   "cell_type": "code",
   "execution_count": null,
   "metadata": {},
   "outputs": [],
   "source": []
  },
  {
   "cell_type": "code",
   "execution_count": 118,
   "metadata": {},
   "outputs": [],
   "source": [
    "import random as ran"
   ]
  },
  {
   "cell_type": "code",
   "execution_count": 126,
   "metadata": {},
   "outputs": [
    {
     "data": {
      "text/plain": [
       "[3, 4, 3, 9, 8, 8, 6, 1, 6, 1, 10, 15, 4, 12, 1]"
      ]
     },
     "execution_count": 126,
     "metadata": {},
     "output_type": "execute_result"
    }
   ],
   "source": [
    "t = [random.randint(0,15) for i in range(15)]\n",
    "t"
   ]
  },
  {
   "cell_type": "code",
   "execution_count": 127,
   "metadata": {},
   "outputs": [
    {
     "data": {
      "text/plain": [
       "[1, 1, 1, 4, 3, 4, 3, 9, 6, 8, 10, 15, 8, 12, 6]"
      ]
     },
     "execution_count": 127,
     "metadata": {},
     "output_type": "execute_result"
    }
   ],
   "source": [
    "a = Heap(t)\n",
    "a"
   ]
  },
  {
   "cell_type": "code",
   "execution_count": 128,
   "metadata": {},
   "outputs": [
    {
     "data": {
      "text/plain": [
       "[-3, -1, 1, 0, 3, 4, 3, 1, 1, 8, 10, 15, 8, 12, 6, 9, 4, 6]"
      ]
     },
     "execution_count": 128,
     "metadata": {},
     "output_type": "execute_result"
    }
   ],
   "source": [
    "a.append(0).append(-1).append(-3)"
   ]
  },
  {
   "cell_type": "code",
   "execution_count": 130,
   "metadata": {},
   "outputs": [
    {
     "data": {
      "text/plain": [
       "-3"
      ]
     },
     "execution_count": 130,
     "metadata": {},
     "output_type": "execute_result"
    }
   ],
   "source": [
    "a[0]"
   ]
  },
  {
   "cell_type": "code",
   "execution_count": null,
   "metadata": {},
   "outputs": [],
   "source": []
  },
  {
   "cell_type": "code",
   "execution_count": null,
   "metadata": {},
   "outputs": [],
   "source": []
  },
  {
   "cell_type": "code",
   "execution_count": 72,
   "metadata": {},
   "outputs": [],
   "source": [
    "def isIterable(ob):\n",
    "    return '__iter__' in dir(ob)"
   ]
  },
  {
   "cell_type": "code",
   "execution_count": 73,
   "metadata": {},
   "outputs": [
    {
     "data": {
      "text/plain": [
       "True"
      ]
     },
     "execution_count": 73,
     "metadata": {},
     "output_type": "execute_result"
    }
   ],
   "source": [
    "isIterable('asdad')"
   ]
  },
  {
   "cell_type": "code",
   "execution_count": 82,
   "metadata": {},
   "outputs": [
    {
     "ename": "TypeError",
     "evalue": "'int' object is not iterable",
     "output_type": "error",
     "traceback": [
      "\u001b[0;31m---------------------------------------------------------------------------\u001b[0m",
      "\u001b[0;31mTypeError\u001b[0m                                 Traceback (most recent call last)",
      "\u001b[0;32m<ipython-input-82-5f8f20940d45>\u001b[0m in \u001b[0;36m<module>\u001b[0;34m()\u001b[0m\n\u001b[0;32m----> 1\u001b[0;31m \u001b[0;32mfor\u001b[0m \u001b[0mi\u001b[0m \u001b[0;32min\u001b[0m \u001b[0;36m4\u001b[0m\u001b[0;34m:\u001b[0m\u001b[0;34m\u001b[0m\u001b[0m\n\u001b[0m\u001b[1;32m      2\u001b[0m     \u001b[0mprint\u001b[0m\u001b[0;34m(\u001b[0m\u001b[0mi\u001b[0m\u001b[0;34m)\u001b[0m\u001b[0;34m\u001b[0m\u001b[0m\n",
      "\u001b[0;31mTypeError\u001b[0m: 'int' object is not iterable"
     ]
    }
   ],
   "source": [
    "for i in 4:\n",
    "    print(i)"
   ]
  },
  {
   "cell_type": "code",
   "execution_count": null,
   "metadata": {},
   "outputs": [],
   "source": []
  }
 ],
 "metadata": {
  "kernelspec": {
   "display_name": "Python 3",
   "language": "python",
   "name": "python3"
  },
  "language_info": {
   "codemirror_mode": {
    "name": "ipython",
    "version": 3
   },
   "file_extension": ".py",
   "mimetype": "text/x-python",
   "name": "python",
   "nbconvert_exporter": "python",
   "pygments_lexer": "ipython3",
   "version": "3.7.0"
  }
 },
 "nbformat": 4,
 "nbformat_minor": 2
}
